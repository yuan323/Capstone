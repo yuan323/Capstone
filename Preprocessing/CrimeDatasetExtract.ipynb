{
 "cells": [
  {
   "cell_type": "code",
   "execution_count": 1,
   "metadata": {},
   "outputs": [],
   "source": [
    "import pandas as pd\n",
    "import geopandas as gpd\n",
    "from shapely.geometry import Point\n",
    "from tqdm import tqdm\n",
    "import re\n",
    "from datetime import datetime\n",
    "\n",
    "import warnings\n",
    "warnings.filterwarnings(\"ignore\")\n"
   ]
  },
  {
   "cell_type": "code",
   "execution_count": 5,
   "metadata": {},
   "outputs": [],
   "source": [
    "Service_dict={'MURDER & NON-NEGL. MANSLAUGHTER':1, 'RAPE':1, 'ROBBERY':1, 'FELONY ASSAULT':1, \n",
    "              'BURGLARY':2, 'GRAND LARCENY':2, 'GRAND LARCENY OF MOTOR VEHICLE':2, 'DANGEROUS DRUGS':2}\n",
    "CrimeTypes = list(Service_dict.keys())"
   ]
  },
  {
   "cell_type": "markdown",
   "metadata": {
    "pycharm": {
     "name": "#%%\n"
    }
   },
   "source": [
    "#### NYPD Complaint"
   ]
  },
  {
   "cell_type": "code",
   "execution_count": 2,
   "metadata": {
    "pycharm": {
     "name": "#%%\n"
    }
   },
   "outputs": [
    {
     "data": {
      "text/plain": [
       "<pandas.io.parsers.TextFileReader at 0x296465f9a48>"
      ]
     },
     "execution_count": 2,
     "metadata": {},
     "output_type": "execute_result"
    }
   ],
   "source": [
    "NYPDComplaint = pd.read_csv(\"../Data/NYPD_Complaint_Data_Historic.csv\",  iterator = True, chunksize=100000,  low_memory=False)\n",
    "NYPDComplaint"
   ]
  },
  {
   "cell_type": "code",
   "execution_count": 3,
   "metadata": {
    "pycharm": {
     "name": "#%%\n"
    }
   },
   "outputs": [],
   "source": [
    "dataNYPD_useful = []"
   ]
  },
  {
   "cell_type": "code",
   "execution_count": 7,
   "metadata": {
    "pycharm": {
     "name": "#%%\n"
    }
   },
   "outputs": [
    {
     "name": "stderr",
     "output_type": "stream",
     "text": [
      "0it [00:00, ?it/s]\n"
     ]
    }
   ],
   "source": [
    "for chunk in tqdm(NYPDComplaint):\n",
    "    chunk = chunk[['X_COORD_CD', 'Y_COORD_CD', \"OFNS_DESC\", \"CMPLNT_FR_DT\", \"CMPLNT_FR_TM\"]]\n",
    "    chunk.dropna(axis=0,how='any', inplace=True)\n",
    "    chunk = chunk[chunk[\"OFNS_DESC\"].isin(CrimeTypes)]\n",
    "    chunk[\"year\"] = chunk[\"CMPLNT_FR_DT\"].apply(lambda x: int(x.split(\"/\")[-1]))\n",
    "    chunk = chunk[(chunk.year>=2015)&(chunk.year<=2019)]\n",
    "    dataNYPD_useful.append(chunk)"
   ]
  },
  {
   "cell_type": "code",
   "execution_count": 39,
   "metadata": {
    "pycharm": {
     "name": "#%%\n"
    }
   },
   "outputs": [
    {
     "data": {
      "text/html": [
       "<div>\n",
       "<style scoped>\n",
       "    .dataframe tbody tr th:only-of-type {\n",
       "        vertical-align: middle;\n",
       "    }\n",
       "\n",
       "    .dataframe tbody tr th {\n",
       "        vertical-align: top;\n",
       "    }\n",
       "\n",
       "    .dataframe thead th {\n",
       "        text-align: right;\n",
       "    }\n",
       "</style>\n",
       "<table border=\"1\" class=\"dataframe\">\n",
       "  <thead>\n",
       "    <tr style=\"text-align: right;\">\n",
       "      <th></th>\n",
       "      <th>X_COORD_CD</th>\n",
       "      <th>Y_COORD_CD</th>\n",
       "      <th>OFNS_DESC</th>\n",
       "      <th>CMPLNT_FR_DT</th>\n",
       "      <th>CMPLNT_FR_TM</th>\n",
       "      <th>year</th>\n",
       "    </tr>\n",
       "  </thead>\n",
       "  <tbody>\n",
       "    <tr>\n",
       "      <th>0</th>\n",
       "      <td>1001868</td>\n",
       "      <td>183705</td>\n",
       "      <td>FELONY ASSAULT</td>\n",
       "      <td>07/23/2016</td>\n",
       "      <td>02:45:00</td>\n",
       "      <td>2016</td>\n",
       "    </tr>\n",
       "    <tr>\n",
       "      <th>1</th>\n",
       "      <td>1019366</td>\n",
       "      <td>259474</td>\n",
       "      <td>FELONY ASSAULT</td>\n",
       "      <td>02/26/2017</td>\n",
       "      <td>04:20:00</td>\n",
       "      <td>2017</td>\n",
       "    </tr>\n",
       "    <tr>\n",
       "      <th>2</th>\n",
       "      <td>986367</td>\n",
       "      <td>185688</td>\n",
       "      <td>DANGEROUS DRUGS</td>\n",
       "      <td>08/14/2017</td>\n",
       "      <td>21:00:00</td>\n",
       "      <td>2017</td>\n",
       "    </tr>\n",
       "    <tr>\n",
       "      <th>3</th>\n",
       "      <td>1002228</td>\n",
       "      <td>234677</td>\n",
       "      <td>DANGEROUS DRUGS</td>\n",
       "      <td>09/18/2016</td>\n",
       "      <td>23:15:00</td>\n",
       "      <td>2016</td>\n",
       "    </tr>\n",
       "    <tr>\n",
       "      <th>4</th>\n",
       "      <td>988554</td>\n",
       "      <td>216447</td>\n",
       "      <td>DANGEROUS DRUGS</td>\n",
       "      <td>03/17/2016</td>\n",
       "      <td>00:20:00</td>\n",
       "      <td>2016</td>\n",
       "    </tr>\n",
       "  </tbody>\n",
       "</table>\n",
       "</div>"
      ],
      "text/plain": [
       "   X_COORD_CD  Y_COORD_CD        OFNS_DESC CMPLNT_FR_DT CMPLNT_FR_TM  year\n",
       "0     1001868      183705   FELONY ASSAULT   07/23/2016     02:45:00  2016\n",
       "1     1019366      259474   FELONY ASSAULT   02/26/2017     04:20:00  2017\n",
       "2      986367      185688  DANGEROUS DRUGS   08/14/2017     21:00:00  2017\n",
       "3     1002228      234677  DANGEROUS DRUGS   09/18/2016     23:15:00  2016\n",
       "4      988554      216447  DANGEROUS DRUGS   03/17/2016     00:20:00  2016"
      ]
     },
     "execution_count": 39,
     "metadata": {},
     "output_type": "execute_result"
    }
   ],
   "source": [
    "finalNYPDdata = pd.concat(dataNYPD_useful,axis=0,ignore_index=True)\n",
    "finalNYPDdata[\"X_COORD_CD\"] = finalNYPDdata[\"X_COORD_CD\"].apply(lambda x:int(\"\".join(list(filter(str.isdigit, x)))))\n",
    "finalNYPDdata[\"Y_COORD_CD\"] = finalNYPDdata[\"Y_COORD_CD\"].apply(lambda x:int(\"\".join(list(filter(str.isdigit, x)))))\n",
    "finalNYPDdata.head()"
   ]
  },
  {
   "cell_type": "code",
   "execution_count": 40,
   "metadata": {
    "pycharm": {
     "name": "#%%\n"
    }
   },
   "outputs": [
    {
     "data": {
      "text/plain": [
       "580256"
      ]
     },
     "execution_count": 40,
     "metadata": {},
     "output_type": "execute_result"
    }
   ],
   "source": [
    "len(finalNYPDdata)"
   ]
  },
  {
   "cell_type": "markdown",
   "metadata": {},
   "source": [
    "#### process NYPD with shapefiles"
   ]
  },
  {
   "cell_type": "code",
   "execution_count": 41,
   "metadata": {
    "pycharm": {
     "name": "#%%\n"
    }
   },
   "outputs": [
    {
     "data": {
      "text/html": [
       "<div>\n",
       "<style scoped>\n",
       "    .dataframe tbody tr th:only-of-type {\n",
       "        vertical-align: middle;\n",
       "    }\n",
       "\n",
       "    .dataframe tbody tr th {\n",
       "        vertical-align: top;\n",
       "    }\n",
       "\n",
       "    .dataframe thead th {\n",
       "        text-align: right;\n",
       "    }\n",
       "</style>\n",
       "<table border=\"1\" class=\"dataframe\">\n",
       "  <thead>\n",
       "    <tr style=\"text-align: right;\">\n",
       "      <th></th>\n",
       "      <th>ZIPCODE</th>\n",
       "      <th>BLDGZIP</th>\n",
       "      <th>PO_NAME</th>\n",
       "      <th>POPULATION</th>\n",
       "      <th>AREA</th>\n",
       "      <th>STATE</th>\n",
       "      <th>COUNTY</th>\n",
       "      <th>ST_FIPS</th>\n",
       "      <th>CTY_FIPS</th>\n",
       "      <th>URL</th>\n",
       "      <th>SHAPE_AREA</th>\n",
       "      <th>SHAPE_LEN</th>\n",
       "      <th>geometry</th>\n",
       "    </tr>\n",
       "  </thead>\n",
       "  <tbody>\n",
       "    <tr>\n",
       "      <th>0</th>\n",
       "      <td>11436</td>\n",
       "      <td>0</td>\n",
       "      <td>Jamaica</td>\n",
       "      <td>18681.0</td>\n",
       "      <td>2.269930e+07</td>\n",
       "      <td>NY</td>\n",
       "      <td>Queens</td>\n",
       "      <td>36</td>\n",
       "      <td>081</td>\n",
       "      <td>http://www.usps.com/</td>\n",
       "      <td>0.0</td>\n",
       "      <td>0.0</td>\n",
       "      <td>POLYGON ((1038098.252 188138.380, 1038141.936 ...</td>\n",
       "    </tr>\n",
       "    <tr>\n",
       "      <th>1</th>\n",
       "      <td>11213</td>\n",
       "      <td>0</td>\n",
       "      <td>Brooklyn</td>\n",
       "      <td>62426.0</td>\n",
       "      <td>2.963100e+07</td>\n",
       "      <td>NY</td>\n",
       "      <td>Kings</td>\n",
       "      <td>36</td>\n",
       "      <td>047</td>\n",
       "      <td>http://www.usps.com/</td>\n",
       "      <td>0.0</td>\n",
       "      <td>0.0</td>\n",
       "      <td>POLYGON ((1001613.713 186926.440, 1002314.243 ...</td>\n",
       "    </tr>\n",
       "    <tr>\n",
       "      <th>2</th>\n",
       "      <td>11212</td>\n",
       "      <td>0</td>\n",
       "      <td>Brooklyn</td>\n",
       "      <td>83866.0</td>\n",
       "      <td>4.197210e+07</td>\n",
       "      <td>NY</td>\n",
       "      <td>Kings</td>\n",
       "      <td>36</td>\n",
       "      <td>047</td>\n",
       "      <td>http://www.usps.com/</td>\n",
       "      <td>0.0</td>\n",
       "      <td>0.0</td>\n",
       "      <td>POLYGON ((1011174.276 183696.338, 1011373.584 ...</td>\n",
       "    </tr>\n",
       "    <tr>\n",
       "      <th>3</th>\n",
       "      <td>11225</td>\n",
       "      <td>0</td>\n",
       "      <td>Brooklyn</td>\n",
       "      <td>56527.0</td>\n",
       "      <td>2.369863e+07</td>\n",
       "      <td>NY</td>\n",
       "      <td>Kings</td>\n",
       "      <td>36</td>\n",
       "      <td>047</td>\n",
       "      <td>http://www.usps.com/</td>\n",
       "      <td>0.0</td>\n",
       "      <td>0.0</td>\n",
       "      <td>POLYGON ((995908.365 183617.613, 996522.848 18...</td>\n",
       "    </tr>\n",
       "    <tr>\n",
       "      <th>4</th>\n",
       "      <td>11218</td>\n",
       "      <td>0</td>\n",
       "      <td>Brooklyn</td>\n",
       "      <td>72280.0</td>\n",
       "      <td>3.686880e+07</td>\n",
       "      <td>NY</td>\n",
       "      <td>Kings</td>\n",
       "      <td>36</td>\n",
       "      <td>047</td>\n",
       "      <td>http://www.usps.com/</td>\n",
       "      <td>0.0</td>\n",
       "      <td>0.0</td>\n",
       "      <td>POLYGON ((991997.113 176307.496, 992042.798 17...</td>\n",
       "    </tr>\n",
       "  </tbody>\n",
       "</table>\n",
       "</div>"
      ],
      "text/plain": [
       "  ZIPCODE BLDGZIP   PO_NAME  POPULATION          AREA STATE  COUNTY ST_FIPS  \\\n",
       "0   11436       0   Jamaica     18681.0  2.269930e+07    NY  Queens      36   \n",
       "1   11213       0  Brooklyn     62426.0  2.963100e+07    NY   Kings      36   \n",
       "2   11212       0  Brooklyn     83866.0  4.197210e+07    NY   Kings      36   \n",
       "3   11225       0  Brooklyn     56527.0  2.369863e+07    NY   Kings      36   \n",
       "4   11218       0  Brooklyn     72280.0  3.686880e+07    NY   Kings      36   \n",
       "\n",
       "  CTY_FIPS                   URL  SHAPE_AREA  SHAPE_LEN  \\\n",
       "0      081  http://www.usps.com/         0.0        0.0   \n",
       "1      047  http://www.usps.com/         0.0        0.0   \n",
       "2      047  http://www.usps.com/         0.0        0.0   \n",
       "3      047  http://www.usps.com/         0.0        0.0   \n",
       "4      047  http://www.usps.com/         0.0        0.0   \n",
       "\n",
       "                                            geometry  \n",
       "0  POLYGON ((1038098.252 188138.380, 1038141.936 ...  \n",
       "1  POLYGON ((1001613.713 186926.440, 1002314.243 ...  \n",
       "2  POLYGON ((1011174.276 183696.338, 1011373.584 ...  \n",
       "3  POLYGON ((995908.365 183617.613, 996522.848 18...  \n",
       "4  POLYGON ((991997.113 176307.496, 992042.798 17...  "
      ]
     },
     "execution_count": 41,
     "metadata": {},
     "output_type": "execute_result"
    }
   ],
   "source": [
    "#load the resulting shapefile using geopandas\n",
    "zipcode = gpd.read_file('../Data/ZIPCODE/ZIP_CODE_040114.shp')\n",
    "zipcode.head()"
   ]
  },
  {
   "cell_type": "code",
   "execution_count": 42,
   "metadata": {
    "pycharm": {
     "name": "#%%\n"
    }
   },
   "outputs": [],
   "source": [
    "zipcode_polygon = zipcode[[\"ZIPCODE\", \"geometry\"]].values\n",
    "def getZipcode(p):\n",
    "    for code, geometry in zipcode_polygon:\n",
    "        if geometry.contains(p):\n",
    "            return int(code)"
   ]
  },
  {
   "cell_type": "code",
   "execution_count": 43,
   "metadata": {
    "pycharm": {
     "name": "#%%\n"
    }
   },
   "outputs": [
    {
     "name": "stderr",
     "output_type": "stream",
     "text": [
      "580256it [08:24, 1149.26it/s]\n"
     ]
    }
   ],
   "source": [
    "zipcode_list = []\n",
    "for idx, row in tqdm(finalNYPDdata.iterrows()):\n",
    "    X_COORD_CD, Y_COORD_CD, OFNS_DESC, CMPLNT_FR_DT, CMPLNT_FR_TM, year = row\n",
    "    code = getZipcode(Point(X_COORD_CD, Y_COORD_CD))\n",
    "    zipcode_list.append(code)"
   ]
  },
  {
   "cell_type": "code",
   "execution_count": 44,
   "metadata": {
    "pycharm": {
     "name": "#%%\n"
    }
   },
   "outputs": [],
   "source": [
    "finalNYPDdata[\"zipcode\"] = zipcode_list"
   ]
  },
  {
   "cell_type": "code",
   "execution_count": 45,
   "metadata": {},
   "outputs": [
    {
     "data": {
      "text/html": [
       "<div>\n",
       "<style scoped>\n",
       "    .dataframe tbody tr th:only-of-type {\n",
       "        vertical-align: middle;\n",
       "    }\n",
       "\n",
       "    .dataframe tbody tr th {\n",
       "        vertical-align: top;\n",
       "    }\n",
       "\n",
       "    .dataframe thead th {\n",
       "        text-align: right;\n",
       "    }\n",
       "</style>\n",
       "<table border=\"1\" class=\"dataframe\">\n",
       "  <thead>\n",
       "    <tr style=\"text-align: right;\">\n",
       "      <th></th>\n",
       "      <th>X_COORD_CD</th>\n",
       "      <th>Y_COORD_CD</th>\n",
       "      <th>OFNS_DESC</th>\n",
       "      <th>CMPLNT_FR_DT</th>\n",
       "      <th>CMPLNT_FR_TM</th>\n",
       "      <th>year</th>\n",
       "      <th>zipcode</th>\n",
       "    </tr>\n",
       "  </thead>\n",
       "  <tbody>\n",
       "    <tr>\n",
       "      <th>0</th>\n",
       "      <td>1001868</td>\n",
       "      <td>183705</td>\n",
       "      <td>FELONY ASSAULT</td>\n",
       "      <td>07/23/2016</td>\n",
       "      <td>02:45:00</td>\n",
       "      <td>2016</td>\n",
       "      <td>11213.0</td>\n",
       "    </tr>\n",
       "    <tr>\n",
       "      <th>1</th>\n",
       "      <td>1019366</td>\n",
       "      <td>259474</td>\n",
       "      <td>FELONY ASSAULT</td>\n",
       "      <td>02/26/2017</td>\n",
       "      <td>04:20:00</td>\n",
       "      <td>2017</td>\n",
       "      <td>10467.0</td>\n",
       "    </tr>\n",
       "    <tr>\n",
       "      <th>2</th>\n",
       "      <td>986367</td>\n",
       "      <td>185688</td>\n",
       "      <td>DANGEROUS DRUGS</td>\n",
       "      <td>08/14/2017</td>\n",
       "      <td>21:00:00</td>\n",
       "      <td>2017</td>\n",
       "      <td>11231.0</td>\n",
       "    </tr>\n",
       "    <tr>\n",
       "      <th>3</th>\n",
       "      <td>1002228</td>\n",
       "      <td>234677</td>\n",
       "      <td>DANGEROUS DRUGS</td>\n",
       "      <td>09/18/2016</td>\n",
       "      <td>23:15:00</td>\n",
       "      <td>2016</td>\n",
       "      <td>10037.0</td>\n",
       "    </tr>\n",
       "    <tr>\n",
       "      <th>4</th>\n",
       "      <td>988554</td>\n",
       "      <td>216447</td>\n",
       "      <td>DANGEROUS DRUGS</td>\n",
       "      <td>03/17/2016</td>\n",
       "      <td>00:20:00</td>\n",
       "      <td>2016</td>\n",
       "      <td>10019.0</td>\n",
       "    </tr>\n",
       "    <tr>\n",
       "      <th>...</th>\n",
       "      <td>...</td>\n",
       "      <td>...</td>\n",
       "      <td>...</td>\n",
       "      <td>...</td>\n",
       "      <td>...</td>\n",
       "      <td>...</td>\n",
       "      <td>...</td>\n",
       "    </tr>\n",
       "    <tr>\n",
       "      <th>580251</th>\n",
       "      <td>1021600</td>\n",
       "      <td>260152</td>\n",
       "      <td>DANGEROUS DRUGS</td>\n",
       "      <td>10/14/2018</td>\n",
       "      <td>20:00:00</td>\n",
       "      <td>2018</td>\n",
       "      <td>10467.0</td>\n",
       "    </tr>\n",
       "    <tr>\n",
       "      <th>580252</th>\n",
       "      <td>1015133</td>\n",
       "      <td>247522</td>\n",
       "      <td>GRAND LARCENY</td>\n",
       "      <td>06/23/2018</td>\n",
       "      <td>09:00:00</td>\n",
       "      <td>2018</td>\n",
       "      <td>10457.0</td>\n",
       "    </tr>\n",
       "    <tr>\n",
       "      <th>580253</th>\n",
       "      <td>1041216</td>\n",
       "      <td>191470</td>\n",
       "      <td>GRAND LARCENY</td>\n",
       "      <td>12/14/2018</td>\n",
       "      <td>20:30:00</td>\n",
       "      <td>2018</td>\n",
       "      <td>11433.0</td>\n",
       "    </tr>\n",
       "    <tr>\n",
       "      <th>580254</th>\n",
       "      <td>987583</td>\n",
       "      <td>210248</td>\n",
       "      <td>FELONY ASSAULT</td>\n",
       "      <td>01/14/2018</td>\n",
       "      <td>02:50:00</td>\n",
       "      <td>2018</td>\n",
       "      <td>10001.0</td>\n",
       "    </tr>\n",
       "    <tr>\n",
       "      <th>580255</th>\n",
       "      <td>992359</td>\n",
       "      <td>217816</td>\n",
       "      <td>GRAND LARCENY</td>\n",
       "      <td>05/29/2018</td>\n",
       "      <td>19:15:00</td>\n",
       "      <td>2018</td>\n",
       "      <td>10065.0</td>\n",
       "    </tr>\n",
       "  </tbody>\n",
       "</table>\n",
       "<p>580256 rows × 7 columns</p>\n",
       "</div>"
      ],
      "text/plain": [
       "        X_COORD_CD  Y_COORD_CD        OFNS_DESC CMPLNT_FR_DT CMPLNT_FR_TM  \\\n",
       "0          1001868      183705   FELONY ASSAULT   07/23/2016     02:45:00   \n",
       "1          1019366      259474   FELONY ASSAULT   02/26/2017     04:20:00   \n",
       "2           986367      185688  DANGEROUS DRUGS   08/14/2017     21:00:00   \n",
       "3          1002228      234677  DANGEROUS DRUGS   09/18/2016     23:15:00   \n",
       "4           988554      216447  DANGEROUS DRUGS   03/17/2016     00:20:00   \n",
       "...            ...         ...              ...          ...          ...   \n",
       "580251     1021600      260152  DANGEROUS DRUGS   10/14/2018     20:00:00   \n",
       "580252     1015133      247522    GRAND LARCENY   06/23/2018     09:00:00   \n",
       "580253     1041216      191470    GRAND LARCENY   12/14/2018     20:30:00   \n",
       "580254      987583      210248   FELONY ASSAULT   01/14/2018     02:50:00   \n",
       "580255      992359      217816    GRAND LARCENY   05/29/2018     19:15:00   \n",
       "\n",
       "        year  zipcode  \n",
       "0       2016  11213.0  \n",
       "1       2017  10467.0  \n",
       "2       2017  11231.0  \n",
       "3       2016  10037.0  \n",
       "4       2016  10019.0  \n",
       "...      ...      ...  \n",
       "580251  2018  10467.0  \n",
       "580252  2018  10457.0  \n",
       "580253  2018  11433.0  \n",
       "580254  2018  10001.0  \n",
       "580255  2018  10065.0  \n",
       "\n",
       "[580256 rows x 7 columns]"
      ]
     },
     "execution_count": 45,
     "metadata": {},
     "output_type": "execute_result"
    }
   ],
   "source": [
    "finalNYPDdata"
   ]
  },
  {
   "cell_type": "code",
   "execution_count": 46,
   "metadata": {},
   "outputs": [
    {
     "data": {
      "text/html": [
       "<div>\n",
       "<style scoped>\n",
       "    .dataframe tbody tr th:only-of-type {\n",
       "        vertical-align: middle;\n",
       "    }\n",
       "\n",
       "    .dataframe tbody tr th {\n",
       "        vertical-align: top;\n",
       "    }\n",
       "\n",
       "    .dataframe thead th {\n",
       "        text-align: right;\n",
       "    }\n",
       "</style>\n",
       "<table border=\"1\" class=\"dataframe\">\n",
       "  <thead>\n",
       "    <tr style=\"text-align: right;\">\n",
       "      <th></th>\n",
       "      <th>zipcode</th>\n",
       "      <th>year</th>\n",
       "      <th>CMPLNT_FR_DT</th>\n",
       "      <th>OFNS_DESC</th>\n",
       "      <th>CMPLNT_FR_TM</th>\n",
       "    </tr>\n",
       "  </thead>\n",
       "  <tbody>\n",
       "    <tr>\n",
       "      <th>0</th>\n",
       "      <td>11213.0</td>\n",
       "      <td>2016</td>\n",
       "      <td>07/23/2016</td>\n",
       "      <td>FELONY ASSAULT</td>\n",
       "      <td>02:45:00</td>\n",
       "    </tr>\n",
       "    <tr>\n",
       "      <th>1</th>\n",
       "      <td>10467.0</td>\n",
       "      <td>2017</td>\n",
       "      <td>02/26/2017</td>\n",
       "      <td>FELONY ASSAULT</td>\n",
       "      <td>04:20:00</td>\n",
       "    </tr>\n",
       "    <tr>\n",
       "      <th>2</th>\n",
       "      <td>11231.0</td>\n",
       "      <td>2017</td>\n",
       "      <td>08/14/2017</td>\n",
       "      <td>DANGEROUS DRUGS</td>\n",
       "      <td>21:00:00</td>\n",
       "    </tr>\n",
       "    <tr>\n",
       "      <th>3</th>\n",
       "      <td>10037.0</td>\n",
       "      <td>2016</td>\n",
       "      <td>09/18/2016</td>\n",
       "      <td>DANGEROUS DRUGS</td>\n",
       "      <td>23:15:00</td>\n",
       "    </tr>\n",
       "    <tr>\n",
       "      <th>4</th>\n",
       "      <td>10019.0</td>\n",
       "      <td>2016</td>\n",
       "      <td>03/17/2016</td>\n",
       "      <td>DANGEROUS DRUGS</td>\n",
       "      <td>00:20:00</td>\n",
       "    </tr>\n",
       "    <tr>\n",
       "      <th>...</th>\n",
       "      <td>...</td>\n",
       "      <td>...</td>\n",
       "      <td>...</td>\n",
       "      <td>...</td>\n",
       "      <td>...</td>\n",
       "    </tr>\n",
       "    <tr>\n",
       "      <th>580251</th>\n",
       "      <td>10467.0</td>\n",
       "      <td>2018</td>\n",
       "      <td>10/14/2018</td>\n",
       "      <td>DANGEROUS DRUGS</td>\n",
       "      <td>20:00:00</td>\n",
       "    </tr>\n",
       "    <tr>\n",
       "      <th>580252</th>\n",
       "      <td>10457.0</td>\n",
       "      <td>2018</td>\n",
       "      <td>06/23/2018</td>\n",
       "      <td>GRAND LARCENY</td>\n",
       "      <td>09:00:00</td>\n",
       "    </tr>\n",
       "    <tr>\n",
       "      <th>580253</th>\n",
       "      <td>11433.0</td>\n",
       "      <td>2018</td>\n",
       "      <td>12/14/2018</td>\n",
       "      <td>GRAND LARCENY</td>\n",
       "      <td>20:30:00</td>\n",
       "    </tr>\n",
       "    <tr>\n",
       "      <th>580254</th>\n",
       "      <td>10001.0</td>\n",
       "      <td>2018</td>\n",
       "      <td>01/14/2018</td>\n",
       "      <td>FELONY ASSAULT</td>\n",
       "      <td>02:50:00</td>\n",
       "    </tr>\n",
       "    <tr>\n",
       "      <th>580255</th>\n",
       "      <td>10065.0</td>\n",
       "      <td>2018</td>\n",
       "      <td>05/29/2018</td>\n",
       "      <td>GRAND LARCENY</td>\n",
       "      <td>19:15:00</td>\n",
       "    </tr>\n",
       "  </tbody>\n",
       "</table>\n",
       "<p>580256 rows × 5 columns</p>\n",
       "</div>"
      ],
      "text/plain": [
       "        zipcode  year CMPLNT_FR_DT        OFNS_DESC CMPLNT_FR_TM\n",
       "0       11213.0  2016   07/23/2016   FELONY ASSAULT     02:45:00\n",
       "1       10467.0  2017   02/26/2017   FELONY ASSAULT     04:20:00\n",
       "2       11231.0  2017   08/14/2017  DANGEROUS DRUGS     21:00:00\n",
       "3       10037.0  2016   09/18/2016  DANGEROUS DRUGS     23:15:00\n",
       "4       10019.0  2016   03/17/2016  DANGEROUS DRUGS     00:20:00\n",
       "...         ...   ...          ...              ...          ...\n",
       "580251  10467.0  2018   10/14/2018  DANGEROUS DRUGS     20:00:00\n",
       "580252  10457.0  2018   06/23/2018    GRAND LARCENY     09:00:00\n",
       "580253  11433.0  2018   12/14/2018    GRAND LARCENY     20:30:00\n",
       "580254  10001.0  2018   01/14/2018   FELONY ASSAULT     02:50:00\n",
       "580255  10065.0  2018   05/29/2018    GRAND LARCENY     19:15:00\n",
       "\n",
       "[580256 rows x 5 columns]"
      ]
     },
     "execution_count": 46,
     "metadata": {},
     "output_type": "execute_result"
    }
   ],
   "source": [
    "finalNYPDdata = finalNYPDdata[[\"zipcode\", \"year\", \"CMPLNT_FR_DT\", \"OFNS_DESC\", \"CMPLNT_FR_TM\"]]\n",
    "finalNYPDdata"
   ]
  },
  {
   "cell_type": "code",
   "execution_count": 47,
   "metadata": {
    "pycharm": {
     "name": "#%%\n"
    }
   },
   "outputs": [],
   "source": [
    "finalNYPDdata[\"month\"] = finalNYPDdata[\"CMPLNT_FR_DT\"].apply(lambda x:int(x.split(\"/\")[0]))\n",
    "finalNYPDdata[\"timeinterval\"] = finalNYPDdata[\"CMPLNT_FR_TM\"].apply(lambda x:int(x.split(\":\")[0]))\n",
    "finalNYPDdata.rename(columns={\"CMPLNT_FR_DT\":\"date\", \"OFNS_DESC\":\"crime_name\"}, inplace=True)\n",
    "finalNYPDdata[\"crime_type\"] = finalNYPDdata[\"crime_name\"].apply(lambda x:Service_dict[x])\n",
    "crimetype_name = {1:\"Violent Crime\", 2:\"Property Crime\"}\n",
    "finalNYPDdata[\"crime_name\"] = finalNYPDdata[\"crime_type\"].apply(lambda x:crimetype_name[x])\n",
    "finalNYPDdata[\"dayOfWeek\"] = finalNYPDdata[\"date\"].apply(lambda x: datetime.strptime(x,\"%m/%d/%Y\").weekday() + 1)\n",
    "finalNYPDdata[\"isWeekend\"] = finalNYPDdata[\"dayOfWeek\"].apply(lambda x:1 if x>5 else 0)\n",
    "finalNYPDdata = finalNYPDdata[[\"zipcode\", \"date\", \"year\", \"month\", \"timeinterval\", \"isWeekend\", \"crime_name\", \"crime_type\"]]"
   ]
  },
  {
   "cell_type": "code",
   "execution_count": 48,
   "metadata": {},
   "outputs": [
    {
     "data": {
      "text/html": [
       "<div>\n",
       "<style scoped>\n",
       "    .dataframe tbody tr th:only-of-type {\n",
       "        vertical-align: middle;\n",
       "    }\n",
       "\n",
       "    .dataframe tbody tr th {\n",
       "        vertical-align: top;\n",
       "    }\n",
       "\n",
       "    .dataframe thead th {\n",
       "        text-align: right;\n",
       "    }\n",
       "</style>\n",
       "<table border=\"1\" class=\"dataframe\">\n",
       "  <thead>\n",
       "    <tr style=\"text-align: right;\">\n",
       "      <th></th>\n",
       "      <th>zipcode</th>\n",
       "      <th>date</th>\n",
       "      <th>year</th>\n",
       "      <th>month</th>\n",
       "      <th>timeinterval</th>\n",
       "      <th>isWeekend</th>\n",
       "      <th>crime_name</th>\n",
       "      <th>crime_type</th>\n",
       "    </tr>\n",
       "  </thead>\n",
       "  <tbody>\n",
       "    <tr>\n",
       "      <th>0</th>\n",
       "      <td>11213.0</td>\n",
       "      <td>07/23/2016</td>\n",
       "      <td>2016</td>\n",
       "      <td>7</td>\n",
       "      <td>2</td>\n",
       "      <td>1</td>\n",
       "      <td>Violent Crime</td>\n",
       "      <td>1</td>\n",
       "    </tr>\n",
       "    <tr>\n",
       "      <th>1</th>\n",
       "      <td>10467.0</td>\n",
       "      <td>02/26/2017</td>\n",
       "      <td>2017</td>\n",
       "      <td>2</td>\n",
       "      <td>4</td>\n",
       "      <td>1</td>\n",
       "      <td>Violent Crime</td>\n",
       "      <td>1</td>\n",
       "    </tr>\n",
       "    <tr>\n",
       "      <th>2</th>\n",
       "      <td>11231.0</td>\n",
       "      <td>08/14/2017</td>\n",
       "      <td>2017</td>\n",
       "      <td>8</td>\n",
       "      <td>21</td>\n",
       "      <td>0</td>\n",
       "      <td>Property Crime</td>\n",
       "      <td>2</td>\n",
       "    </tr>\n",
       "    <tr>\n",
       "      <th>3</th>\n",
       "      <td>10037.0</td>\n",
       "      <td>09/18/2016</td>\n",
       "      <td>2016</td>\n",
       "      <td>9</td>\n",
       "      <td>23</td>\n",
       "      <td>1</td>\n",
       "      <td>Property Crime</td>\n",
       "      <td>2</td>\n",
       "    </tr>\n",
       "    <tr>\n",
       "      <th>4</th>\n",
       "      <td>10019.0</td>\n",
       "      <td>03/17/2016</td>\n",
       "      <td>2016</td>\n",
       "      <td>3</td>\n",
       "      <td>0</td>\n",
       "      <td>0</td>\n",
       "      <td>Property Crime</td>\n",
       "      <td>2</td>\n",
       "    </tr>\n",
       "  </tbody>\n",
       "</table>\n",
       "</div>"
      ],
      "text/plain": [
       "   zipcode        date  year  month  timeinterval  isWeekend      crime_name  \\\n",
       "0  11213.0  07/23/2016  2016      7             2          1   Violent Crime   \n",
       "1  10467.0  02/26/2017  2017      2             4          1   Violent Crime   \n",
       "2  11231.0  08/14/2017  2017      8            21          0  Property Crime   \n",
       "3  10037.0  09/18/2016  2016      9            23          1  Property Crime   \n",
       "4  10019.0  03/17/2016  2016      3             0          0  Property Crime   \n",
       "\n",
       "   crime_type  \n",
       "0           1  \n",
       "1           1  \n",
       "2           2  \n",
       "3           2  \n",
       "4           2  "
      ]
     },
     "execution_count": 48,
     "metadata": {},
     "output_type": "execute_result"
    }
   ],
   "source": [
    "finalNYPDdata.head()"
   ]
  },
  {
   "cell_type": "code",
   "execution_count": null,
   "outputs": [],
   "source": [
    "finalNYPDdata.to_csv(\"CrimeData.csv\", index=None)"
   ],
   "metadata": {
    "collapsed": false,
    "pycharm": {
     "name": "#%%\n"
    }
   }
  },
  {
   "cell_type": "code",
   "execution_count": 49,
   "metadata": {},
   "outputs": [],
   "source": []
  },
  {
   "cell_type": "code",
   "execution_count": null,
   "metadata": {},
   "outputs": [],
   "source": []
  }
 ],
 "metadata": {
  "kernelspec": {
   "display_name": "Python 3",
   "language": "python",
   "name": "python3"
  },
  "language_info": {
   "codemirror_mode": {
    "name": "ipython",
    "version": 3
   },
   "file_extension": ".py",
   "mimetype": "text/x-python",
   "name": "python",
   "nbconvert_exporter": "python",
   "pygments_lexer": "ipython3",
   "version": "3.7.10"
  }
 },
 "nbformat": 4,
 "nbformat_minor": 1
}