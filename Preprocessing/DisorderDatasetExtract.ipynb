{
 "cells": [
  {
   "cell_type": "markdown",
   "metadata": {},
   "source": [
    "### 1. calculate the density of each unit in terms of population instead of area.\n",
    "### 2. Analyze the correlation between every two elements in a total of 60 months from 2015 to 2019.\n",
    "### 3. Compute and compare the distribution of correlation coefficient of each pair of elements in New York City."
   ]
  },
  {
   "cell_type": "code",
   "execution_count": 1,
   "metadata": {
    "pycharm": {
     "name": "#%%\n"
    }
   },
   "outputs": [],
   "source": [
    "import pandas as pd\n",
    "import geopandas as gpd\n",
    "from shapely.geometry import Point\n",
    "from tqdm import tqdm\n",
    "import re\n",
    "from datetime import datetime\n",
    "\n",
    "import warnings\n",
    "warnings.filterwarnings(\"ignore\")"
   ]
  },
  {
   "cell_type": "code",
   "execution_count": 2,
   "metadata": {},
   "outputs": [],
   "source": [
    "Service_dict={'Illegal Parking':1,'Blocked Driveway':1,'Mass Gathering Complaint':1,'Drug Activity':2,'Hazardous Materials':2,'Smoking':2,'Abandoned Vehicle':3,'Street Sign - Damaged':3,'Noise - Residential':4,'Noise - Street/Sidewalk':4,'Noise - Vehicle':4,'Noise - Commercial':4,'Noise - Park':4,'Noise - Helicopter':4,'Street Sign - Damaged':5,'Animal-Abuse':5,'Maintenance or Facility':5,'Sidewalk Condition':5,'Root/Sewer/Sidewalk Condition':5,'Street Condition':5,'Curb Condition':5,'Homeless Person Assistance':6,'Bus Stop Shelter Placement':6,'Non-Emergency Police Matter':6, \"Graffiti\":7, 'VIOLATION':8, 'MISDEMEANOR':8}\n",
    "disordertypes = list(Service_dict.keys())"
   ]
  },
  {
   "cell_type": "markdown",
   "metadata": {},
   "source": [
    "#### disorder dataset from 311 and NYPD Complaint"
   ]
  },
  {
   "cell_type": "code",
   "execution_count": 3,
   "metadata": {},
   "outputs": [
    {
     "data": {
      "text/plain": [
       "<pandas.io.parsers.TextFileReader at 0x13a89b303c8>"
      ]
     },
     "execution_count": 3,
     "metadata": {},
     "output_type": "execute_result"
    }
   ],
   "source": [
    "data311 = pd.read_csv(\"../Data/311_Service_Requests_from_2010_to_Present.csv\", iterator = True, chunksize=100000,  low_memory=False)\n",
    "data311"
   ]
  },
  {
   "cell_type": "code",
   "execution_count": 4,
   "metadata": {},
   "outputs": [],
   "source": [
    "data311Num = 0\n",
    "data311_useful = []"
   ]
  },
  {
   "cell_type": "code",
   "execution_count": 5,
   "metadata": {},
   "outputs": [
    {
     "name": "stderr",
     "output_type": "stream",
     "text": [
      "252it [08:11,  1.95s/it]\n"
     ]
    }
   ],
   "source": [
    "for chunk in tqdm(data311):\n",
    "    chunk = chunk[[\"Incident Zip\", \"Complaint Type\", \"Created Date\"]]\n",
    "    chunk = chunk[chunk[\"Complaint Type\"].isin(disordertypes)]\n",
    "    chunk[\"year\"] = chunk[\"Created Date\"].apply(lambda x: int(x.split(\" \")[0].split(\"/\")[-1]))\n",
    "    chunk = chunk[(chunk.year>=2015)&(chunk.year<=2019)]\n",
    "    data311_useful.append(chunk)\n",
    "    chunkNum = len(chunk)\n",
    "    data311Num += chunkNum\n",
    "#     if data311Num >= 1000000:\n",
    "#         break"
   ]
  },
  {
   "cell_type": "code",
   "execution_count": 6,
   "metadata": {},
   "outputs": [
    {
     "data": {
      "text/html": [
       "<div>\n",
       "<style scoped>\n",
       "    .dataframe tbody tr th:only-of-type {\n",
       "        vertical-align: middle;\n",
       "    }\n",
       "\n",
       "    .dataframe tbody tr th {\n",
       "        vertical-align: top;\n",
       "    }\n",
       "\n",
       "    .dataframe thead th {\n",
       "        text-align: right;\n",
       "    }\n",
       "</style>\n",
       "<table border=\"1\" class=\"dataframe\">\n",
       "  <thead>\n",
       "    <tr style=\"text-align: right;\">\n",
       "      <th></th>\n",
       "      <th>Incident Zip</th>\n",
       "      <th>Complaint Type</th>\n",
       "      <th>Created Date</th>\n",
       "      <th>year</th>\n",
       "    </tr>\n",
       "  </thead>\n",
       "  <tbody>\n",
       "    <tr>\n",
       "      <th>0</th>\n",
       "      <td>11228</td>\n",
       "      <td>Maintenance or Facility</td>\n",
       "      <td>11/06/2017 10:10:20 AM</td>\n",
       "      <td>2017</td>\n",
       "    </tr>\n",
       "    <tr>\n",
       "      <th>1</th>\n",
       "      <td>10014</td>\n",
       "      <td>Maintenance or Facility</td>\n",
       "      <td>11/06/2017 12:09:17 PM</td>\n",
       "      <td>2017</td>\n",
       "    </tr>\n",
       "    <tr>\n",
       "      <th>2</th>\n",
       "      <td>11238</td>\n",
       "      <td>Maintenance or Facility</td>\n",
       "      <td>11/06/2017 03:09:48 PM</td>\n",
       "      <td>2017</td>\n",
       "    </tr>\n",
       "    <tr>\n",
       "      <th>3</th>\n",
       "      <td>10306</td>\n",
       "      <td>Sidewalk Condition</td>\n",
       "      <td>11/06/2017 11:35:52 AM</td>\n",
       "      <td>2017</td>\n",
       "    </tr>\n",
       "    <tr>\n",
       "      <th>4</th>\n",
       "      <td>11416</td>\n",
       "      <td>Blocked Driveway</td>\n",
       "      <td>11/06/2017 12:59:47 PM</td>\n",
       "      <td>2017</td>\n",
       "    </tr>\n",
       "  </tbody>\n",
       "</table>\n",
       "</div>"
      ],
      "text/plain": [
       "  Incident Zip           Complaint Type            Created Date  year\n",
       "0        11228  Maintenance or Facility  11/06/2017 10:10:20 AM  2017\n",
       "1        10014  Maintenance or Facility  11/06/2017 12:09:17 PM  2017\n",
       "2        11238  Maintenance or Facility  11/06/2017 03:09:48 PM  2017\n",
       "3        10306       Sidewalk Condition  11/06/2017 11:35:52 AM  2017\n",
       "4        11416         Blocked Driveway  11/06/2017 12:59:47 PM  2017"
      ]
     },
     "execution_count": 6,
     "metadata": {},
     "output_type": "execute_result"
    }
   ],
   "source": [
    "final311data = pd.concat(data311_useful,axis=0,ignore_index=True)\n",
    "final311data.head()"
   ]
  },
  {
   "cell_type": "code",
   "execution_count": 7,
   "metadata": {},
   "outputs": [],
   "source": [
    "final311data[\"date\"] = final311data[\"Created Date\"].apply(lambda x:x.split(\" \")[0])\n",
    "final311data[\"month\"] = final311data[\"Created Date\"].apply(lambda x:int(x.split(\" \")[0].split(\"/\")[0]))\n",
    "final311data[\"timestamp\"] = final311data[\"Created Date\"].apply(lambda x:x.split(\" \")[1])\n",
    "final311data[\"AM_PM\"] = final311data[\"Created Date\"].apply(lambda x:x.split(\" \")[2])\n",
    "final311data[\"timeinterval\"] = final311data[\"timestamp\"].apply(lambda x: int(x.split(\":\")[0]))\n",
    "final311data[\"AM_PM\"] = final311data[\"AM_PM\"].apply(lambda x: 0 if x==\"AM\" else 12)\n",
    "final311data[\"timeinterval\"] = final311data[\"timeinterval\"] + final311data[\"AM_PM\"]\n",
    "final311data[\"timeinterval\"] = final311data[\"timeinterval\"].apply(lambda x: x%24)\n",
    "final311data.rename(columns={\"Incident Zip\":\"zipcode\", \"Complaint Type\":\"type\"}, inplace=True)\n",
    "final311data = final311data[['zipcode', 'date', 'year', 'month', 'timeinterval', 'type']]"
   ]
  },
  {
   "cell_type": "code",
   "execution_count": 8,
   "metadata": {},
   "outputs": [
    {
     "data": {
      "text/html": [
       "<div>\n",
       "<style scoped>\n",
       "    .dataframe tbody tr th:only-of-type {\n",
       "        vertical-align: middle;\n",
       "    }\n",
       "\n",
       "    .dataframe tbody tr th {\n",
       "        vertical-align: top;\n",
       "    }\n",
       "\n",
       "    .dataframe thead th {\n",
       "        text-align: right;\n",
       "    }\n",
       "</style>\n",
       "<table border=\"1\" class=\"dataframe\">\n",
       "  <thead>\n",
       "    <tr style=\"text-align: right;\">\n",
       "      <th></th>\n",
       "      <th>zipcode</th>\n",
       "      <th>date</th>\n",
       "      <th>year</th>\n",
       "      <th>month</th>\n",
       "      <th>timeinterval</th>\n",
       "      <th>type</th>\n",
       "    </tr>\n",
       "  </thead>\n",
       "  <tbody>\n",
       "    <tr>\n",
       "      <th>0</th>\n",
       "      <td>11228</td>\n",
       "      <td>11/06/2017</td>\n",
       "      <td>2017</td>\n",
       "      <td>11</td>\n",
       "      <td>10</td>\n",
       "      <td>Maintenance or Facility</td>\n",
       "    </tr>\n",
       "    <tr>\n",
       "      <th>1</th>\n",
       "      <td>10014</td>\n",
       "      <td>11/06/2017</td>\n",
       "      <td>2017</td>\n",
       "      <td>11</td>\n",
       "      <td>0</td>\n",
       "      <td>Maintenance or Facility</td>\n",
       "    </tr>\n",
       "    <tr>\n",
       "      <th>2</th>\n",
       "      <td>11238</td>\n",
       "      <td>11/06/2017</td>\n",
       "      <td>2017</td>\n",
       "      <td>11</td>\n",
       "      <td>15</td>\n",
       "      <td>Maintenance or Facility</td>\n",
       "    </tr>\n",
       "    <tr>\n",
       "      <th>3</th>\n",
       "      <td>10306</td>\n",
       "      <td>11/06/2017</td>\n",
       "      <td>2017</td>\n",
       "      <td>11</td>\n",
       "      <td>11</td>\n",
       "      <td>Sidewalk Condition</td>\n",
       "    </tr>\n",
       "    <tr>\n",
       "      <th>4</th>\n",
       "      <td>11416</td>\n",
       "      <td>11/06/2017</td>\n",
       "      <td>2017</td>\n",
       "      <td>11</td>\n",
       "      <td>0</td>\n",
       "      <td>Blocked Driveway</td>\n",
       "    </tr>\n",
       "  </tbody>\n",
       "</table>\n",
       "</div>"
      ],
      "text/plain": [
       "  zipcode        date  year  month  timeinterval                     type\n",
       "0   11228  11/06/2017  2017     11            10  Maintenance or Facility\n",
       "1   10014  11/06/2017  2017     11             0  Maintenance or Facility\n",
       "2   11238  11/06/2017  2017     11            15  Maintenance or Facility\n",
       "3   10306  11/06/2017  2017     11            11       Sidewalk Condition\n",
       "4   11416  11/06/2017  2017     11             0         Blocked Driveway"
      ]
     },
     "execution_count": 8,
     "metadata": {},
     "output_type": "execute_result"
    }
   ],
   "source": [
    "final311data.head()"
   ]
  },
  {
   "cell_type": "markdown",
   "metadata": {},
   "source": [
    "#### NYPD Complaint"
   ]
  },
  {
   "cell_type": "code",
   "execution_count": 9,
   "metadata": {},
   "outputs": [
    {
     "data": {
      "text/plain": [
       "<pandas.io.parsers.TextFileReader at 0x13a8cb53ac8>"
      ]
     },
     "execution_count": 9,
     "metadata": {},
     "output_type": "execute_result"
    }
   ],
   "source": [
    "NYPDComplaint = pd.read_csv(\"../Data/NYPD_Complaint_Data_Historic.csv\",  iterator = True, chunksize=100000,  low_memory=False)\n",
    "NYPDComplaint"
   ]
  },
  {
   "cell_type": "code",
   "execution_count": 10,
   "metadata": {},
   "outputs": [],
   "source": [
    "dataNYPD_useful = []"
   ]
  },
  {
   "cell_type": "code",
   "execution_count": 11,
   "metadata": {},
   "outputs": [
    {
     "name": "stderr",
     "output_type": "stream",
     "text": [
      "70it [01:19,  1.13s/it]\n"
     ]
    }
   ],
   "source": [
    "for chunk in tqdm(NYPDComplaint):\n",
    "    chunk = chunk[['X_COORD_CD', 'Y_COORD_CD', \"LAW_CAT_CD\", \"CMPLNT_FR_DT\", \"CMPLNT_FR_TM\"]]\n",
    "    chunk.dropna(axis=0,how='any', inplace=True)\n",
    "    chunk = chunk[chunk[\"LAW_CAT_CD\"].isin(disordertypes)]\n",
    "    chunk[\"year\"] = chunk[\"CMPLNT_FR_DT\"].apply(lambda x: int(x.split(\"/\")[-1]))\n",
    "    chunk = chunk[(chunk.year>=2015)&(chunk.year<=2019)]\n",
    "    dataNYPD_useful.append(chunk)"
   ]
  },
  {
   "cell_type": "code",
   "execution_count": 12,
   "metadata": {},
   "outputs": [
    {
     "data": {
      "text/html": [
       "<div>\n",
       "<style scoped>\n",
       "    .dataframe tbody tr th:only-of-type {\n",
       "        vertical-align: middle;\n",
       "    }\n",
       "\n",
       "    .dataframe tbody tr th {\n",
       "        vertical-align: top;\n",
       "    }\n",
       "\n",
       "    .dataframe thead th {\n",
       "        text-align: right;\n",
       "    }\n",
       "</style>\n",
       "<table border=\"1\" class=\"dataframe\">\n",
       "  <thead>\n",
       "    <tr style=\"text-align: right;\">\n",
       "      <th></th>\n",
       "      <th>X_COORD_CD</th>\n",
       "      <th>Y_COORD_CD</th>\n",
       "      <th>LAW_CAT_CD</th>\n",
       "      <th>CMPLNT_FR_DT</th>\n",
       "      <th>CMPLNT_FR_TM</th>\n",
       "      <th>year</th>\n",
       "    </tr>\n",
       "  </thead>\n",
       "  <tbody>\n",
       "    <tr>\n",
       "      <th>0</th>\n",
       "      <td>1007522</td>\n",
       "      <td>247458</td>\n",
       "      <td>VIOLATION</td>\n",
       "      <td>05/28/2015</td>\n",
       "      <td>15:00:00</td>\n",
       "      <td>2015</td>\n",
       "    </tr>\n",
       "    <tr>\n",
       "      <th>1</th>\n",
       "      <td>1005028</td>\n",
       "      <td>234516</td>\n",
       "      <td>MISDEMEANOR</td>\n",
       "      <td>04/13/2016</td>\n",
       "      <td>00:00:00</td>\n",
       "      <td>2016</td>\n",
       "    </tr>\n",
       "    <tr>\n",
       "      <th>2</th>\n",
       "      <td>988958</td>\n",
       "      <td>209044</td>\n",
       "      <td>VIOLATION</td>\n",
       "      <td>06/25/2017</td>\n",
       "      <td>14:00:00</td>\n",
       "      <td>2017</td>\n",
       "    </tr>\n",
       "    <tr>\n",
       "      <th>3</th>\n",
       "      <td>999240</td>\n",
       "      <td>169262</td>\n",
       "      <td>MISDEMEANOR</td>\n",
       "      <td>03/26/2017</td>\n",
       "      <td>12:00:00</td>\n",
       "      <td>2017</td>\n",
       "    </tr>\n",
       "    <tr>\n",
       "      <th>4</th>\n",
       "      <td>1010854</td>\n",
       "      <td>182099</td>\n",
       "      <td>VIOLATION</td>\n",
       "      <td>04/27/2015</td>\n",
       "      <td>12:40:00</td>\n",
       "      <td>2015</td>\n",
       "    </tr>\n",
       "  </tbody>\n",
       "</table>\n",
       "</div>"
      ],
      "text/plain": [
       "   X_COORD_CD  Y_COORD_CD   LAW_CAT_CD CMPLNT_FR_DT CMPLNT_FR_TM  year\n",
       "0     1007522      247458    VIOLATION   05/28/2015     15:00:00  2015\n",
       "1     1005028      234516  MISDEMEANOR   04/13/2016     00:00:00  2016\n",
       "2      988958      209044    VIOLATION   06/25/2017     14:00:00  2017\n",
       "3      999240      169262  MISDEMEANOR   03/26/2017     12:00:00  2017\n",
       "4     1010854      182099    VIOLATION   04/27/2015     12:40:00  2015"
      ]
     },
     "execution_count": 12,
     "metadata": {},
     "output_type": "execute_result"
    }
   ],
   "source": [
    "finalNYPDdata = pd.concat(dataNYPD_useful,axis=0,ignore_index=True)\n",
    "finalNYPDdata[\"X_COORD_CD\"] = finalNYPDdata[\"X_COORD_CD\"].apply(lambda x:int(\"\".join(list(filter(str.isdigit, x)))))\n",
    "finalNYPDdata[\"Y_COORD_CD\"] = finalNYPDdata[\"Y_COORD_CD\"].apply(lambda x:int(\"\".join(list(filter(str.isdigit, x)))))\n",
    "finalNYPDdata.head()"
   ]
  },
  {
   "cell_type": "code",
   "execution_count": 13,
   "metadata": {},
   "outputs": [
    {
     "data": {
      "text/plain": [
       "1623296"
      ]
     },
     "execution_count": 13,
     "metadata": {},
     "output_type": "execute_result"
    }
   ],
   "source": [
    "len(finalNYPDdata)"
   ]
  },
  {
   "cell_type": "markdown",
   "metadata": {},
   "source": [
    "#### process NYPD with shapefiles"
   ]
  },
  {
   "cell_type": "code",
   "execution_count": 14,
   "metadata": {},
   "outputs": [
    {
     "data": {
      "text/html": [
       "<div>\n",
       "<style scoped>\n",
       "    .dataframe tbody tr th:only-of-type {\n",
       "        vertical-align: middle;\n",
       "    }\n",
       "\n",
       "    .dataframe tbody tr th {\n",
       "        vertical-align: top;\n",
       "    }\n",
       "\n",
       "    .dataframe thead th {\n",
       "        text-align: right;\n",
       "    }\n",
       "</style>\n",
       "<table border=\"1\" class=\"dataframe\">\n",
       "  <thead>\n",
       "    <tr style=\"text-align: right;\">\n",
       "      <th></th>\n",
       "      <th>ZIPCODE</th>\n",
       "      <th>BLDGZIP</th>\n",
       "      <th>PO_NAME</th>\n",
       "      <th>POPULATION</th>\n",
       "      <th>AREA</th>\n",
       "      <th>STATE</th>\n",
       "      <th>COUNTY</th>\n",
       "      <th>ST_FIPS</th>\n",
       "      <th>CTY_FIPS</th>\n",
       "      <th>URL</th>\n",
       "      <th>SHAPE_AREA</th>\n",
       "      <th>SHAPE_LEN</th>\n",
       "      <th>geometry</th>\n",
       "    </tr>\n",
       "  </thead>\n",
       "  <tbody>\n",
       "    <tr>\n",
       "      <th>0</th>\n",
       "      <td>11436</td>\n",
       "      <td>0</td>\n",
       "      <td>Jamaica</td>\n",
       "      <td>18681.0</td>\n",
       "      <td>2.269930e+07</td>\n",
       "      <td>NY</td>\n",
       "      <td>Queens</td>\n",
       "      <td>36</td>\n",
       "      <td>081</td>\n",
       "      <td>http://www.usps.com/</td>\n",
       "      <td>0.0</td>\n",
       "      <td>0.0</td>\n",
       "      <td>POLYGON ((1038098.252 188138.380, 1038141.936 ...</td>\n",
       "    </tr>\n",
       "    <tr>\n",
       "      <th>1</th>\n",
       "      <td>11213</td>\n",
       "      <td>0</td>\n",
       "      <td>Brooklyn</td>\n",
       "      <td>62426.0</td>\n",
       "      <td>2.963100e+07</td>\n",
       "      <td>NY</td>\n",
       "      <td>Kings</td>\n",
       "      <td>36</td>\n",
       "      <td>047</td>\n",
       "      <td>http://www.usps.com/</td>\n",
       "      <td>0.0</td>\n",
       "      <td>0.0</td>\n",
       "      <td>POLYGON ((1001613.713 186926.440, 1002314.243 ...</td>\n",
       "    </tr>\n",
       "    <tr>\n",
       "      <th>2</th>\n",
       "      <td>11212</td>\n",
       "      <td>0</td>\n",
       "      <td>Brooklyn</td>\n",
       "      <td>83866.0</td>\n",
       "      <td>4.197210e+07</td>\n",
       "      <td>NY</td>\n",
       "      <td>Kings</td>\n",
       "      <td>36</td>\n",
       "      <td>047</td>\n",
       "      <td>http://www.usps.com/</td>\n",
       "      <td>0.0</td>\n",
       "      <td>0.0</td>\n",
       "      <td>POLYGON ((1011174.276 183696.338, 1011373.584 ...</td>\n",
       "    </tr>\n",
       "    <tr>\n",
       "      <th>3</th>\n",
       "      <td>11225</td>\n",
       "      <td>0</td>\n",
       "      <td>Brooklyn</td>\n",
       "      <td>56527.0</td>\n",
       "      <td>2.369863e+07</td>\n",
       "      <td>NY</td>\n",
       "      <td>Kings</td>\n",
       "      <td>36</td>\n",
       "      <td>047</td>\n",
       "      <td>http://www.usps.com/</td>\n",
       "      <td>0.0</td>\n",
       "      <td>0.0</td>\n",
       "      <td>POLYGON ((995908.365 183617.613, 996522.848 18...</td>\n",
       "    </tr>\n",
       "    <tr>\n",
       "      <th>4</th>\n",
       "      <td>11218</td>\n",
       "      <td>0</td>\n",
       "      <td>Brooklyn</td>\n",
       "      <td>72280.0</td>\n",
       "      <td>3.686880e+07</td>\n",
       "      <td>NY</td>\n",
       "      <td>Kings</td>\n",
       "      <td>36</td>\n",
       "      <td>047</td>\n",
       "      <td>http://www.usps.com/</td>\n",
       "      <td>0.0</td>\n",
       "      <td>0.0</td>\n",
       "      <td>POLYGON ((991997.113 176307.496, 992042.798 17...</td>\n",
       "    </tr>\n",
       "  </tbody>\n",
       "</table>\n",
       "</div>"
      ],
      "text/plain": [
       "  ZIPCODE BLDGZIP   PO_NAME  POPULATION          AREA STATE  COUNTY ST_FIPS  \\\n",
       "0   11436       0   Jamaica     18681.0  2.269930e+07    NY  Queens      36   \n",
       "1   11213       0  Brooklyn     62426.0  2.963100e+07    NY   Kings      36   \n",
       "2   11212       0  Brooklyn     83866.0  4.197210e+07    NY   Kings      36   \n",
       "3   11225       0  Brooklyn     56527.0  2.369863e+07    NY   Kings      36   \n",
       "4   11218       0  Brooklyn     72280.0  3.686880e+07    NY   Kings      36   \n",
       "\n",
       "  CTY_FIPS                   URL  SHAPE_AREA  SHAPE_LEN  \\\n",
       "0      081  http://www.usps.com/         0.0        0.0   \n",
       "1      047  http://www.usps.com/         0.0        0.0   \n",
       "2      047  http://www.usps.com/         0.0        0.0   \n",
       "3      047  http://www.usps.com/         0.0        0.0   \n",
       "4      047  http://www.usps.com/         0.0        0.0   \n",
       "\n",
       "                                            geometry  \n",
       "0  POLYGON ((1038098.252 188138.380, 1038141.936 ...  \n",
       "1  POLYGON ((1001613.713 186926.440, 1002314.243 ...  \n",
       "2  POLYGON ((1011174.276 183696.338, 1011373.584 ...  \n",
       "3  POLYGON ((995908.365 183617.613, 996522.848 18...  \n",
       "4  POLYGON ((991997.113 176307.496, 992042.798 17...  "
      ]
     },
     "execution_count": 14,
     "metadata": {},
     "output_type": "execute_result"
    }
   ],
   "source": [
    "#load the resulting shapefile using geopandas \n",
    "zipcode = gpd.read_file('../Data/ZIPCODE/ZIP_CODE_040114.shp')\n",
    "zipcode.head()"
   ]
  },
  {
   "cell_type": "code",
   "execution_count": 15,
   "metadata": {},
   "outputs": [],
   "source": [
    "zipcode_polygon = zipcode[[\"ZIPCODE\", \"geometry\"]].values\n",
    "def getZipcode(p):\n",
    "    for code, geometry in zipcode_polygon:\n",
    "        if geometry.contains(p):\n",
    "            return int(code)"
   ]
  },
  {
   "cell_type": "code",
   "execution_count": 16,
   "metadata": {},
   "outputs": [
    {
     "name": "stderr",
     "output_type": "stream",
     "text": [
      "1623296it [26:48, 1009.01it/s]\n"
     ]
    }
   ],
   "source": [
    "zipcode_list = []\n",
    "for idx, row in tqdm(finalNYPDdata.iterrows()):\n",
    "    X_COORD_CD, Y_COORD_CD, LAW_CAT_CD, CMPLNT_FR_DT, CMPLNT_FR_TM, year = row\n",
    "    code = getZipcode(Point(X_COORD_CD, Y_COORD_CD))\n",
    "    zipcode_list.append(code)"
   ]
  },
  {
   "cell_type": "code",
   "execution_count": 17,
   "metadata": {},
   "outputs": [],
   "source": [
    "finalNYPDdata[\"zipcode\"] = zipcode_list"
   ]
  },
  {
   "cell_type": "code",
   "execution_count": 18,
   "metadata": {},
   "outputs": [
    {
     "data": {
      "text/html": [
       "<div>\n",
       "<style scoped>\n",
       "    .dataframe tbody tr th:only-of-type {\n",
       "        vertical-align: middle;\n",
       "    }\n",
       "\n",
       "    .dataframe tbody tr th {\n",
       "        vertical-align: top;\n",
       "    }\n",
       "\n",
       "    .dataframe thead th {\n",
       "        text-align: right;\n",
       "    }\n",
       "</style>\n",
       "<table border=\"1\" class=\"dataframe\">\n",
       "  <thead>\n",
       "    <tr style=\"text-align: right;\">\n",
       "      <th></th>\n",
       "      <th>zipcode</th>\n",
       "      <th>date</th>\n",
       "      <th>year</th>\n",
       "      <th>month</th>\n",
       "      <th>timeinterval</th>\n",
       "      <th>type</th>\n",
       "    </tr>\n",
       "  </thead>\n",
       "  <tbody>\n",
       "    <tr>\n",
       "      <th>0</th>\n",
       "      <td>10452.0</td>\n",
       "      <td>05/28/2015</td>\n",
       "      <td>2015</td>\n",
       "      <td>5</td>\n",
       "      <td>15</td>\n",
       "      <td>VIOLATION</td>\n",
       "    </tr>\n",
       "    <tr>\n",
       "      <th>1</th>\n",
       "      <td>10454.0</td>\n",
       "      <td>04/13/2016</td>\n",
       "      <td>2016</td>\n",
       "      <td>4</td>\n",
       "      <td>0</td>\n",
       "      <td>MISDEMEANOR</td>\n",
       "    </tr>\n",
       "    <tr>\n",
       "      <th>2</th>\n",
       "      <td>10010.0</td>\n",
       "      <td>06/25/2017</td>\n",
       "      <td>2017</td>\n",
       "      <td>6</td>\n",
       "      <td>14</td>\n",
       "      <td>VIOLATION</td>\n",
       "    </tr>\n",
       "    <tr>\n",
       "      <th>3</th>\n",
       "      <td>11210.0</td>\n",
       "      <td>03/26/2017</td>\n",
       "      <td>2017</td>\n",
       "      <td>3</td>\n",
       "      <td>12</td>\n",
       "      <td>MISDEMEANOR</td>\n",
       "    </tr>\n",
       "    <tr>\n",
       "      <th>4</th>\n",
       "      <td>11212.0</td>\n",
       "      <td>04/27/2015</td>\n",
       "      <td>2015</td>\n",
       "      <td>4</td>\n",
       "      <td>12</td>\n",
       "      <td>VIOLATION</td>\n",
       "    </tr>\n",
       "  </tbody>\n",
       "</table>\n",
       "</div>"
      ],
      "text/plain": [
       "   zipcode        date  year  month  timeinterval         type\n",
       "0  10452.0  05/28/2015  2015      5            15    VIOLATION\n",
       "1  10454.0  04/13/2016  2016      4             0  MISDEMEANOR\n",
       "2  10010.0  06/25/2017  2017      6            14    VIOLATION\n",
       "3  11210.0  03/26/2017  2017      3            12  MISDEMEANOR\n",
       "4  11212.0  04/27/2015  2015      4            12    VIOLATION"
      ]
     },
     "execution_count": 18,
     "metadata": {},
     "output_type": "execute_result"
    }
   ],
   "source": [
    "finalNYPDdata = finalNYPDdata[[\"zipcode\", \"year\", \"CMPLNT_FR_DT\", \"LAW_CAT_CD\", \"CMPLNT_FR_TM\"]]\n",
    "finalNYPDdata[\"month\"] = finalNYPDdata[\"CMPLNT_FR_DT\"].apply(lambda x:int(x.split(\"/\")[0]))\n",
    "finalNYPDdata[\"timeinterval\"] = finalNYPDdata[\"CMPLNT_FR_TM\"].apply(lambda x:int(x.split(\":\")[0]))\n",
    "finalNYPDdata.rename(columns={\"CMPLNT_FR_DT\":\"date\", \"LAW_CAT_CD\":\"type\"}, inplace=True)\n",
    "finalNYPDdata = finalNYPDdata[[\"zipcode\", \"date\", \"year\", \"month\", \"timeinterval\", \"type\"]]\n",
    "finalNYPDdata.head()"
   ]
  },
  {
   "cell_type": "markdown",
   "metadata": {},
   "source": [
    "### merge dataset from two source"
   ]
  },
  {
   "cell_type": "code",
   "execution_count": 19,
   "metadata": {},
   "outputs": [
    {
     "data": {
      "text/html": [
       "<div>\n",
       "<style scoped>\n",
       "    .dataframe tbody tr th:only-of-type {\n",
       "        vertical-align: middle;\n",
       "    }\n",
       "\n",
       "    .dataframe tbody tr th {\n",
       "        vertical-align: top;\n",
       "    }\n",
       "\n",
       "    .dataframe thead th {\n",
       "        text-align: right;\n",
       "    }\n",
       "</style>\n",
       "<table border=\"1\" class=\"dataframe\">\n",
       "  <thead>\n",
       "    <tr style=\"text-align: right;\">\n",
       "      <th></th>\n",
       "      <th>zipcode</th>\n",
       "      <th>date</th>\n",
       "      <th>year</th>\n",
       "      <th>month</th>\n",
       "      <th>timeinterval</th>\n",
       "      <th>type</th>\n",
       "    </tr>\n",
       "  </thead>\n",
       "  <tbody>\n",
       "    <tr>\n",
       "      <th>0</th>\n",
       "      <td>11228</td>\n",
       "      <td>11/06/2017</td>\n",
       "      <td>2017</td>\n",
       "      <td>11</td>\n",
       "      <td>10</td>\n",
       "      <td>Maintenance or Facility</td>\n",
       "    </tr>\n",
       "    <tr>\n",
       "      <th>1</th>\n",
       "      <td>10014</td>\n",
       "      <td>11/06/2017</td>\n",
       "      <td>2017</td>\n",
       "      <td>11</td>\n",
       "      <td>0</td>\n",
       "      <td>Maintenance or Facility</td>\n",
       "    </tr>\n",
       "    <tr>\n",
       "      <th>2</th>\n",
       "      <td>11238</td>\n",
       "      <td>11/06/2017</td>\n",
       "      <td>2017</td>\n",
       "      <td>11</td>\n",
       "      <td>15</td>\n",
       "      <td>Maintenance or Facility</td>\n",
       "    </tr>\n",
       "    <tr>\n",
       "      <th>3</th>\n",
       "      <td>10306</td>\n",
       "      <td>11/06/2017</td>\n",
       "      <td>2017</td>\n",
       "      <td>11</td>\n",
       "      <td>11</td>\n",
       "      <td>Sidewalk Condition</td>\n",
       "    </tr>\n",
       "    <tr>\n",
       "      <th>4</th>\n",
       "      <td>11416</td>\n",
       "      <td>11/06/2017</td>\n",
       "      <td>2017</td>\n",
       "      <td>11</td>\n",
       "      <td>0</td>\n",
       "      <td>Blocked Driveway</td>\n",
       "    </tr>\n",
       "  </tbody>\n",
       "</table>\n",
       "</div>"
      ],
      "text/plain": [
       "  zipcode        date  year  month  timeinterval                     type\n",
       "0   11228  11/06/2017  2017     11            10  Maintenance or Facility\n",
       "1   10014  11/06/2017  2017     11             0  Maintenance or Facility\n",
       "2   11238  11/06/2017  2017     11            15  Maintenance or Facility\n",
       "3   10306  11/06/2017  2017     11            11       Sidewalk Condition\n",
       "4   11416  11/06/2017  2017     11             0         Blocked Driveway"
      ]
     },
     "execution_count": 19,
     "metadata": {},
     "output_type": "execute_result"
    }
   ],
   "source": [
    "final311data.head()"
   ]
  },
  {
   "cell_type": "code",
   "execution_count": 20,
   "metadata": {},
   "outputs": [
    {
     "data": {
      "text/html": [
       "<div>\n",
       "<style scoped>\n",
       "    .dataframe tbody tr th:only-of-type {\n",
       "        vertical-align: middle;\n",
       "    }\n",
       "\n",
       "    .dataframe tbody tr th {\n",
       "        vertical-align: top;\n",
       "    }\n",
       "\n",
       "    .dataframe thead th {\n",
       "        text-align: right;\n",
       "    }\n",
       "</style>\n",
       "<table border=\"1\" class=\"dataframe\">\n",
       "  <thead>\n",
       "    <tr style=\"text-align: right;\">\n",
       "      <th></th>\n",
       "      <th>zipcode</th>\n",
       "      <th>date</th>\n",
       "      <th>year</th>\n",
       "      <th>month</th>\n",
       "      <th>timeinterval</th>\n",
       "      <th>type</th>\n",
       "    </tr>\n",
       "  </thead>\n",
       "  <tbody>\n",
       "    <tr>\n",
       "      <th>0</th>\n",
       "      <td>10452.0</td>\n",
       "      <td>05/28/2015</td>\n",
       "      <td>2015</td>\n",
       "      <td>5</td>\n",
       "      <td>15</td>\n",
       "      <td>VIOLATION</td>\n",
       "    </tr>\n",
       "    <tr>\n",
       "      <th>1</th>\n",
       "      <td>10454.0</td>\n",
       "      <td>04/13/2016</td>\n",
       "      <td>2016</td>\n",
       "      <td>4</td>\n",
       "      <td>0</td>\n",
       "      <td>MISDEMEANOR</td>\n",
       "    </tr>\n",
       "    <tr>\n",
       "      <th>2</th>\n",
       "      <td>10010.0</td>\n",
       "      <td>06/25/2017</td>\n",
       "      <td>2017</td>\n",
       "      <td>6</td>\n",
       "      <td>14</td>\n",
       "      <td>VIOLATION</td>\n",
       "    </tr>\n",
       "    <tr>\n",
       "      <th>3</th>\n",
       "      <td>11210.0</td>\n",
       "      <td>03/26/2017</td>\n",
       "      <td>2017</td>\n",
       "      <td>3</td>\n",
       "      <td>12</td>\n",
       "      <td>MISDEMEANOR</td>\n",
       "    </tr>\n",
       "    <tr>\n",
       "      <th>4</th>\n",
       "      <td>11212.0</td>\n",
       "      <td>04/27/2015</td>\n",
       "      <td>2015</td>\n",
       "      <td>4</td>\n",
       "      <td>12</td>\n",
       "      <td>VIOLATION</td>\n",
       "    </tr>\n",
       "  </tbody>\n",
       "</table>\n",
       "</div>"
      ],
      "text/plain": [
       "   zipcode        date  year  month  timeinterval         type\n",
       "0  10452.0  05/28/2015  2015      5            15    VIOLATION\n",
       "1  10454.0  04/13/2016  2016      4             0  MISDEMEANOR\n",
       "2  10010.0  06/25/2017  2017      6            14    VIOLATION\n",
       "3  11210.0  03/26/2017  2017      3            12  MISDEMEANOR\n",
       "4  11212.0  04/27/2015  2015      4            12    VIOLATION"
      ]
     },
     "execution_count": 20,
     "metadata": {},
     "output_type": "execute_result"
    }
   ],
   "source": [
    "finalNYPDdata.head()"
   ]
  },
  {
   "cell_type": "code",
   "execution_count": 21,
   "metadata": {},
   "outputs": [
    {
     "data": {
      "text/html": [
       "<div>\n",
       "<style scoped>\n",
       "    .dataframe tbody tr th:only-of-type {\n",
       "        vertical-align: middle;\n",
       "    }\n",
       "\n",
       "    .dataframe tbody tr th {\n",
       "        vertical-align: top;\n",
       "    }\n",
       "\n",
       "    .dataframe thead th {\n",
       "        text-align: right;\n",
       "    }\n",
       "</style>\n",
       "<table border=\"1\" class=\"dataframe\">\n",
       "  <thead>\n",
       "    <tr style=\"text-align: right;\">\n",
       "      <th></th>\n",
       "      <th>zipcode</th>\n",
       "      <th>date</th>\n",
       "      <th>year</th>\n",
       "      <th>month</th>\n",
       "      <th>timeinterval</th>\n",
       "      <th>isWeekend</th>\n",
       "      <th>disorder_name</th>\n",
       "      <th>disorder_type</th>\n",
       "    </tr>\n",
       "  </thead>\n",
       "  <tbody>\n",
       "    <tr>\n",
       "      <th>0</th>\n",
       "      <td>11228</td>\n",
       "      <td>11/06/2017</td>\n",
       "      <td>2017</td>\n",
       "      <td>11</td>\n",
       "      <td>10</td>\n",
       "      <td>0</td>\n",
       "      <td>Damage</td>\n",
       "      <td>5</td>\n",
       "    </tr>\n",
       "    <tr>\n",
       "      <th>1</th>\n",
       "      <td>10014</td>\n",
       "      <td>11/06/2017</td>\n",
       "      <td>2017</td>\n",
       "      <td>11</td>\n",
       "      <td>0</td>\n",
       "      <td>0</td>\n",
       "      <td>Damage</td>\n",
       "      <td>5</td>\n",
       "    </tr>\n",
       "    <tr>\n",
       "      <th>2</th>\n",
       "      <td>11238</td>\n",
       "      <td>11/06/2017</td>\n",
       "      <td>2017</td>\n",
       "      <td>11</td>\n",
       "      <td>15</td>\n",
       "      <td>0</td>\n",
       "      <td>Damage</td>\n",
       "      <td>5</td>\n",
       "    </tr>\n",
       "    <tr>\n",
       "      <th>3</th>\n",
       "      <td>10306</td>\n",
       "      <td>11/06/2017</td>\n",
       "      <td>2017</td>\n",
       "      <td>11</td>\n",
       "      <td>11</td>\n",
       "      <td>0</td>\n",
       "      <td>Damage</td>\n",
       "      <td>5</td>\n",
       "    </tr>\n",
       "    <tr>\n",
       "      <th>4</th>\n",
       "      <td>11416</td>\n",
       "      <td>11/06/2017</td>\n",
       "      <td>2017</td>\n",
       "      <td>11</td>\n",
       "      <td>0</td>\n",
       "      <td>0</td>\n",
       "      <td>Uncivil Use of Space</td>\n",
       "      <td>1</td>\n",
       "    </tr>\n",
       "  </tbody>\n",
       "</table>\n",
       "</div>"
      ],
      "text/plain": [
       "  zipcode        date  year  month  timeinterval  isWeekend  \\\n",
       "0   11228  11/06/2017  2017     11            10          0   \n",
       "1   10014  11/06/2017  2017     11             0          0   \n",
       "2   11238  11/06/2017  2017     11            15          0   \n",
       "3   10306  11/06/2017  2017     11            11          0   \n",
       "4   11416  11/06/2017  2017     11             0          0   \n",
       "\n",
       "          disorder_name  disorder_type  \n",
       "0                Damage              5  \n",
       "1                Damage              5  \n",
       "2                Damage              5  \n",
       "3                Damage              5  \n",
       "4  Uncivil Use of Space              1  "
      ]
     },
     "execution_count": 21,
     "metadata": {},
     "output_type": "execute_result"
    }
   ],
   "source": [
    "DisorderData = pd.concat([final311data, finalNYPDdata],axis=0,ignore_index=True)\n",
    "disordertype_name = {1:\"Uncivil Use of Space\", 2:\"Drug & Alcohol\", 3:\"Trash\", 4:\"Noise\", 5:\"Damage\", 6:\"Others\", 7:\"Graffiti\", 8:\"Misdemeanor & Violation\"}\n",
    "DisorderData.rename(columns={\"type\":\"disorder_name\"}, inplace=True)\n",
    "DisorderData[\"disorder_type\"] = DisorderData[\"disorder_name\"].apply(lambda x:Service_dict[x])\n",
    "DisorderData[\"disorder_name\"] = DisorderData[\"disorder_type\"].apply(lambda x:disordertype_name[x])\n",
    "DisorderData[\"dayOfWeek\"] = DisorderData[\"date\"].apply(lambda x: datetime.strptime(x,\"%m/%d/%Y\").weekday() + 1)\n",
    "DisorderData[\"isWeekend\"] = DisorderData[\"dayOfWeek\"].apply(lambda x:1 if x>5 else 0)\n",
    "DisorderData = DisorderData[['zipcode', 'date', 'year', 'month', 'timeinterval', 'isWeekend', \"disorder_name\", \"disorder_type\"]]\n",
    "DisorderData.head()"
   ]
  },
  {
   "cell_type": "code",
   "execution_count": 22,
   "metadata": {},
   "outputs": [],
   "source": [
    "DisorderData.to_csv(\"DisorderData.csv\", index=None)"
   ]
  },
  {
   "cell_type": "code",
   "execution_count": null,
   "metadata": {
    "pycharm": {
     "name": "#%%\n"
    }
   },
   "outputs": [],
   "source": []
  },
  {
   "cell_type": "code",
   "execution_count": null,
   "metadata": {},
   "outputs": [],
   "source": []
  }
 ],
 "metadata": {
  "kernelspec": {
   "display_name": "Python 3",
   "language": "python",
   "name": "python3"
  },
  "language_info": {
   "codemirror_mode": {
    "name": "ipython",
    "version": 3
   },
   "file_extension": ".py",
   "mimetype": "text/x-python",
   "name": "python",
   "nbconvert_exporter": "python",
   "pygments_lexer": "ipython3",
   "version": "3.7.10"
  }
 },
 "nbformat": 4,
 "nbformat_minor": 1
}